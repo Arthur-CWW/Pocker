{
 "cells": [
  {
   "cell_type": "code",
   "execution_count": null,
   "metadata": {},
   "outputs": [],
   "source": []
  },
  {
   "cell_type": "code",
   "execution_count": 1,
   "metadata": {},
   "outputs": [
    {
     "ename": "ModuleNotFoundError",
     "evalue": "No module named 'requests'",
     "output_type": "error",
     "traceback": [
      "\u001b[0;31m---------------------------------------------------------------------------\u001b[0m",
      "\u001b[0;31mModuleNotFoundError\u001b[0m                       Traceback (most recent call last)",
      "\u001b[1;32m/home/arthur/Documents/projects/Pocker/prototype.ipynb Cell 2\u001b[0m line \u001b[0;36m2\n\u001b[1;32m      <a href='vscode-notebook-cell:/home/arthur/Documents/projects/Pocker/prototype.ipynb#W0sZmlsZQ%3D%3D?line=0'>1</a>\u001b[0m \u001b[39mimport\u001b[39;00m \u001b[39mjson\u001b[39;00m\n\u001b[0;32m----> <a href='vscode-notebook-cell:/home/arthur/Documents/projects/Pocker/prototype.ipynb#W0sZmlsZQ%3D%3D?line=1'>2</a>\u001b[0m \u001b[39mimport\u001b[39;00m \u001b[39mrequests\u001b[39;00m\n\u001b[1;32m      <a href='vscode-notebook-cell:/home/arthur/Documents/projects/Pocker/prototype.ipynb#W0sZmlsZQ%3D%3D?line=2'>3</a>\u001b[0m image\u001b[39m=\u001b[39m\u001b[39m'\u001b[39m\u001b[39mgolang\u001b[39m\u001b[39m'\u001b[39m\n\u001b[1;32m      <a href='vscode-notebook-cell:/home/arthur/Documents/projects/Pocker/prototype.ipynb#W0sZmlsZQ%3D%3D?line=3'>4</a>\u001b[0m registry_url\u001b[39m=\u001b[39m\u001b[39m'\u001b[39m\u001b[39mhttps://registry-1.docker.io\u001b[39m\u001b[39m'\u001b[39m\n",
      "\u001b[0;31mModuleNotFoundError\u001b[0m: No module named 'requests'"
     ]
    }
   ],
   "source": [
    "\n",
    "import json\n",
    "import requests\n",
    "image='golang'\n",
    "registry_url='https://registry-1.docker.io'\n",
    "auth_url='https://auth.docker.io'\n",
    "svc_url='registry.docker.io'\n",
    "\n",
    "def auth_token():\n",
    "    url = f\"{auth_url}/token?service={svc_url}&scope=repository:library/{image}:pull\"\n",
    "    r = requests.get(url)\n",
    "    return r.json()['token']\n",
    "\n"
   ]
  },
  {
   "cell_type": "code",
   "execution_count": null,
   "metadata": {},
   "outputs": [],
   "source": []
  }
 ],
 "metadata": {
  "kernelspec": {
   "display_name": "pocker",
   "language": "python",
   "name": "python3"
  },
  "language_info": {
   "codemirror_mode": {
    "name": "ipython",
    "version": 3
   },
   "file_extension": ".py",
   "mimetype": "text/x-python",
   "name": "python",
   "nbconvert_exporter": "python",
   "pygments_lexer": "ipython3",
   "version": "3.10.12"
  }
 },
 "nbformat": 4,
 "nbformat_minor": 2
}
