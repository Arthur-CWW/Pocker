{
 "cells": [
  {
   "cell_type": "code",
   "execution_count": null,
   "metadata": {},
   "outputs": [],
   "source": []
  },
  {
   "cell_type": "code",
   "execution_count": 26,
   "metadata": {},
   "outputs": [],
   "source": [
    "\n",
    "import json\n",
    "import requests\n",
    "image='golang'\n",
    "registry_url='https://registry-1.docker.io'\n",
    "auth_url='https://auth.docker.io'\n",
    "svc_url='registry.docker.io'\n",
    "\n",
    "def auth_token():\n",
    "    url = f\"{auth_url}/token?service={svc_url}&scope=repository:library/{image}:pull\"\n",
    "    r = requests.get(url)\n",
    "    return r.json()['token']\n",
    "TOKEN=auth_token()\n",
    "\n"
   ]
  },
  {
   "cell_type": "code",
   "execution_count": 27,
   "metadata": {},
   "outputs": [
    {
     "data": {
      "text/plain": [
       "{'schemaVersion': 2,\n",
       " 'mediaType': 'application/vnd.docker.distribution.manifest.v2+json',\n",
       " 'config': {'mediaType': 'application/vnd.docker.container.image.v1+json',\n",
       "  'size': 7223,\n",
       "  'digest': 'sha256:015e6b7f599b15be5eecad68608583d19d9fa2c8cc27cb6d254204e080dae199'},\n",
       " 'layers': [{'mediaType': 'application/vnd.docker.image.rootfs.diff.tar.gzip',\n",
       "   'size': 49582224,\n",
       "   'digest': 'sha256:0a9573503463fd3166b5b1f34a7720dac28609e98d731e50e7068f92e79b8545'},\n",
       "  {'mediaType': 'application/vnd.docker.image.rootfs.diff.tar.gzip',\n",
       "   'size': 24051259,\n",
       "   'digest': 'sha256:1ccc26d841b4acc2562483bf393ce1cf8bc358ced09ccd825425226827c79c92'},\n",
       "  {'mediaType': 'application/vnd.docker.image.rootfs.diff.tar.gzip',\n",
       "   'size': 64130287,\n",
       "   'digest': 'sha256:800d84653581fc119cd75cd572fa190d3b813d49221b9e5ee463e3560e2cb342'},\n",
       "  {'mediaType': 'application/vnd.docker.image.rootfs.diff.tar.gzip',\n",
       "   'size': 92327514,\n",
       "   'digest': 'sha256:9211c993294398915ebd0aaf372f7cdb2a3ef81bcbb5af6f71967523546b086d'},\n",
       "  {'mediaType': 'application/vnd.docker.image.rootfs.diff.tar.gzip',\n",
       "   'size': 67001231,\n",
       "   'digest': 'sha256:b05d0f037378c842afdaeba0cb038a42a0a9b4e29367f1b2537ef5388ed13719'},\n",
       "  {'mediaType': 'application/vnd.docker.image.rootfs.diff.tar.gzip',\n",
       "   'size': 155,\n",
       "   'digest': 'sha256:9f49ffca687ac5513fd41991a1d5783020961687b147df85d0f43e3c9ff7a084'}]}"
      ]
     },
     "execution_count": 27,
     "metadata": {},
     "output_type": "execute_result"
    }
   ],
   "source": [
    "\n",
    "def manifest(token, image, digest='latest'):\n",
    "    headers = {\n",
    "        'Authorization': f\"Bearer {token}\",\n",
    "        'Accept': 'application/vnd.docker.distribution.manifest.list.v2+json',\n",
    "        'Accept': 'application/vnd.docker.distribution.manifest.v1+json',\n",
    "        'Accept': 'application/vnd.docker.distribution.manifest.v2+json',\n",
    "    }\n",
    "    r = requests.get(f\"{registry_url}/v2/library/{image}/manifests/{digest}\", headers=headers)\n",
    "    return r.json()\n",
    "manifest(TOKEN, image, 'latest')\n"
   ]
  },
  {
   "cell_type": "code",
   "execution_count": 28,
   "metadata": {},
   "outputs": [
    {
     "name": "stdout",
     "output_type": "stream",
     "text": [
      "['sha256:0a9573503463fd3166b5b1f34a7720dac28609e98d731e50e7068f92e79b8545', 'sha256:1ccc26d841b4acc2562483bf393ce1cf8bc358ced09ccd825425226827c79c92', 'sha256:800d84653581fc119cd75cd572fa190d3b813d49221b9e5ee463e3560e2cb342', 'sha256:9211c993294398915ebd0aaf372f7cdb2a3ef81bcbb5af6f71967523546b086d', 'sha256:b05d0f037378c842afdaeba0cb038a42a0a9b4e29367f1b2537ef5388ed13719', 'sha256:9f49ffca687ac5513fd41991a1d5783020961687b147df85d0f43e3c9ff7a084']\n"
     ]
    }
   ],
   "source": [
    "\n",
    "def blob(token, image, digest, file):\n",
    "    headers = {\n",
    "        'Authorization': f\"Bearer {token}\",\n",
    "    }\n",
    "    r = requests.get(f\"{registry_url}/v2/library/{image}/blobs/{digest}\", headers=headers)\n",
    "    # do this in parralel\n",
    "    with open(file, 'wb') as f:\n",
    "        for chunk in r.iter_content(chunk_size=1024):\n",
    "            f.write(chunk)\n",
    "\n",
    "def layers(manifest):\n",
    "    return [l['digest'] for l in manifest['layers']]\n",
    "token=auth_token()\n",
    "\n",
    "mf=manifest(token, image, 'latest')\n",
    "print(layers(mf))\n",
    "for i, l in enumerate(layers(mf)):\n",
    "    blob(token, image, l, f\"layer{i}.tar.gz\")\n"
   ]
  },
  {
   "cell_type": "code",
   "execution_count": 29,
   "metadata": {},
   "outputs": [
    {
     "name": "stdout",
     "output_type": "stream",
     "text": [
      "{'schemaVersion': 2, 'mediaType': 'application/vnd.docker.distribution.manifest.v2+json', 'config': {'mediaType': 'application/vnd.docker.container.image.v1+json', 'size': 7223, 'digest': 'sha256:015e6b7f599b15be5eecad68608583d19d9fa2c8cc27cb6d254204e080dae199'}, 'layers': [{'mediaType': 'application/vnd.docker.image.rootfs.diff.tar.gzip', 'size': 49582224, 'digest': 'sha256:0a9573503463fd3166b5b1f34a7720dac28609e98d731e50e7068f92e79b8545'}, {'mediaType': 'application/vnd.docker.image.rootfs.diff.tar.gzip', 'size': 24051259, 'digest': 'sha256:1ccc26d841b4acc2562483bf393ce1cf8bc358ced09ccd825425226827c79c92'}, {'mediaType': 'application/vnd.docker.image.rootfs.diff.tar.gzip', 'size': 64130287, 'digest': 'sha256:800d84653581fc119cd75cd572fa190d3b813d49221b9e5ee463e3560e2cb342'}, {'mediaType': 'application/vnd.docker.image.rootfs.diff.tar.gzip', 'size': 92327514, 'digest': 'sha256:9211c993294398915ebd0aaf372f7cdb2a3ef81bcbb5af6f71967523546b086d'}, {'mediaType': 'application/vnd.docker.image.rootfs.diff.tar.gzip', 'size': 67001231, 'digest': 'sha256:b05d0f037378c842afdaeba0cb038a42a0a9b4e29367f1b2537ef5388ed13719'}, {'mediaType': 'application/vnd.docker.image.rootfs.diff.tar.gzip', 'size': 155, 'digest': 'sha256:9f49ffca687ac5513fd41991a1d5783020961687b147df85d0f43e3c9ff7a084'}]}\n"
     ]
    }
   ],
   "source": [
    "!echo \"{mf}\"\n"
   ]
  }
 ],
 "metadata": {
  "kernelspec": {
   "display_name": "pocker",
   "language": "python",
   "name": "python3"
  },
  "language_info": {
   "codemirror_mode": {
    "name": "ipython",
    "version": 3
   },
   "file_extension": ".py",
   "mimetype": "text/x-python",
   "name": "python",
   "nbconvert_exporter": "python",
   "pygments_lexer": "ipython3",
   "version": "3.10.12"
  }
 },
 "nbformat": 4,
 "nbformat_minor": 2
}
